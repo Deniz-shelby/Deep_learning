{
 "cells": [
  {
   "cell_type": "code",
   "execution_count": 2,
   "id": "bf8d283f",
   "metadata": {},
   "outputs": [],
   "source": [
    "%matplotlib inline\n",
    "%config InlineBackend.figure_format = 'retina'\n",
    "\n",
    "import matplotlib.pyplot as plt\n",
    "\n",
    "import torch \n",
    "from torch import nn\n",
    "from torch import optim\n",
    "import torch.nn.functional as F\n",
    "from torchvision import datasets, transforms, models #"
   ]
  },
  {
   "cell_type": "code",
   "execution_count": 6,
   "id": "65b3f076",
   "metadata": {},
   "outputs": [],
   "source": [
    "data_dir = 'example_dataset'"
   ]
  },
  {
   "cell_type": "code",
   "execution_count": null,
   "id": "8d45ba1d",
   "metadata": {},
   "outputs": [],
   "source": [
    "train_transforms = transforms.Compose([transforms.RandomResizedCrop(224),#hight and wide of picture in terms of pixel\n",
    "                                      transforms.RandomRotation(30),\n",
    "                                       transforms.RandomHorizontalFlip(),\n",
    "                                      transforms.ToTensor(),\n",
    "                                      transforms.Normalize([0.485,0.456,0.406],[0.229,0.224,0.225])\n",
    "                                      ]) #\n",
    "\n",
    "train_transforms = transforms.Compose([transforms.Resize(224),\n",
    "                                      transforms.ToTensor(),\n",
    "                                      transforms.Normalize([0.485,0.456,0.406],[0.229,0.224,0.225])\n",
    "                                      ]) #\n"
   ]
  },
  {
   "cell_type": "code",
   "execution_count": null,
   "id": "ec8cc4bf",
   "metadata": {},
   "outputs": [],
   "source": [
    "# create dataset\n",
    "train_data = datasets.ImageFolder(os.path(data_dir, 'train'),transforms=train_transforms)\n",
    "test_data = datasets.ImageFolder(os.path(data_dir, 'test'),transforms=test_transforms)\n"
   ]
  },
  {
   "cell_type": "code",
   "execution_count": null,
   "id": "fc528619",
   "metadata": {},
   "outputs": [],
   "source": [
    "from torch.utils.data import DataLoader\n",
    "trainloader = DataLoader(train_data, batch_size=3, shuffle=True)\n",
    "testloader = DataLoader(test_data, batch_size=3, shuffle=False)"
   ]
  },
  {
   "cell_type": "code",
   "execution_count": null,
   "id": "41252c97",
   "metadata": {},
   "outputs": [],
   "source": [
    "import numpy as np\n",
    "def imshow(image, ax=None, title=None,normalize=True):\n",
    "    '''Imshow for Tensor.'''\n",
    "    if ax is None:\n",
    "        fig, ax = plt.subplots()\n",
    "    image = image.numpy().transpose((1,2,0))\n",
    "    \n",
    "    if normalize:\n",
    "        mean = np.array([0.485,0.456,0.406])\n",
    "        std = np.array([0.229,0.224,0.225])\n",
    "        image = std * image +mean\n",
    "        image =np.clip(image, 0 ,1)\n",
    "        \n",
    "    ax.imshow(image)\n",
    "    ax.spines['top'].set_visible(False)\n",
    "    ax.spines['right'].set_visible(False)\n",
    "    ax.spines['left'].set_visible(False)\n",
    "    ax.spines['bottom'].set_visible(False)\n",
    "    ax.tick_params(axis='both', length=0)\n",
    "    ax.set_xticklabels('')\n",
    "    ax.set_yticklabels('')\n",
    "    \n",
    "    return ax\n",
    "\n",
    "image, labels = next(iter)\n",
    "    "
   ]
  },
  {
   "cell_type": "code",
   "execution_count": null,
   "id": "65b5c250",
   "metadata": {},
   "outputs": [],
   "source": []
  },
  {
   "cell_type": "code",
   "execution_count": null,
   "id": "dcb95a1e",
   "metadata": {},
   "outputs": [],
   "source": []
  },
  {
   "cell_type": "code",
   "execution_count": null,
   "id": "8b004384",
   "metadata": {},
   "outputs": [],
   "source": []
  },
  {
   "cell_type": "code",
   "execution_count": null,
   "id": "3444d19e",
   "metadata": {},
   "outputs": [],
   "source": []
  },
  {
   "cell_type": "code",
   "execution_count": null,
   "id": "868a01c5",
   "metadata": {},
   "outputs": [],
   "source": [
    "#not compute the gradients of the feature extractor\n",
    "for param in model.parameters()\n",
    "    param.requires_grad = False"
   ]
  },
  {
   "cell_type": "code",
   "execution_count": 9,
   "id": "69180a9e",
   "metadata": {},
   "outputs": [],
   "source": [
    "from collections import OrderedDict\n",
    "\n",
    "classifier = nn.Sequential(OrderedDict([\n",
    "    ('fc1', nn.Linear(in_features=1024, out_features=10)),\n",
    "    ('relu', nn.ReLU()),\n",
    "    ('fc2', nn.Linear(in_features=10,out_features=3)),\n",
    "    ('output', nn.LogSoftmax(dim=1))\n",
    "]))\n",
    "    "
   ]
  },
  {
   "cell_type": "markdown",
   "id": "cb5be056",
   "metadata": {},
   "source": [
    "Replace the `model.classifier` with our `classifier`"
   ]
  },
  {
   "cell_type": "code",
   "execution_count": 10,
   "id": "e1794b0d",
   "metadata": {},
   "outputs": [
    {
     "ename": "NameError",
     "evalue": "name 'model' is not defined",
     "output_type": "error",
     "traceback": [
      "\u001b[0;31m---------------------------------------------------------------------------\u001b[0m",
      "\u001b[0;31mNameError\u001b[0m                                 Traceback (most recent call last)",
      "\u001b[0;32m<ipython-input-10-c5619fff8abc>\u001b[0m in \u001b[0;36m<module>\u001b[0;34m\u001b[0m\n\u001b[0;32m----> 1\u001b[0;31m \u001b[0mmodel\u001b[0m\u001b[0;34m.\u001b[0m\u001b[0mclassifier\u001b[0m \u001b[0;34m=\u001b[0m \u001b[0mclassifier\u001b[0m\u001b[0;34m\u001b[0m\u001b[0;34m\u001b[0m\u001b[0m\n\u001b[0m",
      "\u001b[0;31mNameError\u001b[0m: name 'model' is not defined"
     ]
    }
   ],
   "source": [
    "model.classifier = our_classifier"
   ]
  },
  {
   "cell_type": "code",
   "execution_count": null,
   "id": "f17bc94a",
   "metadata": {},
   "outputs": [],
   "source": [
    "our_classifier"
   ]
  },
  {
   "cell_type": "code",
   "execution_count": null,
   "id": "741b4991",
   "metadata": {},
   "outputs": [],
   "source": [
    "model"
   ]
  },
  {
   "cell_type": "code",
   "execution_count": null,
   "id": "f5cbb7ee",
   "metadata": {},
   "outputs": [],
   "source": [
    "for params in model.paramters():\n",
    "    print(params.requires_grad)b"
   ]
  },
  {
   "cell_type": "code",
   "execution_count": 12,
   "id": "6ac6fb92",
   "metadata": {},
   "outputs": [
    {
     "ename": "AttributeError",
     "evalue": "module 'torch' has no attribute 'is_available'",
     "output_type": "error",
     "traceback": [
      "\u001b[0;31m---------------------------------------------------------------------------\u001b[0m",
      "\u001b[0;31mAttributeError\u001b[0m                            Traceback (most recent call last)",
      "\u001b[0;32m<ipython-input-12-5b562d6c7b84>\u001b[0m in \u001b[0;36m<module>\u001b[0;34m\u001b[0m\n\u001b[0;32m----> 1\u001b[0;31m \u001b[0mdevice\u001b[0m\u001b[0;34m=\u001b[0m \u001b[0mtorch\u001b[0m\u001b[0;34m.\u001b[0m\u001b[0mdevice\u001b[0m\u001b[0;34m(\u001b[0m\u001b[0;34m'cuda:0'\u001b[0m \u001b[0;32mif\u001b[0m \u001b[0mtorch\u001b[0m\u001b[0;34m.\u001b[0m\u001b[0mis_available\u001b[0m\u001b[0;34m(\u001b[0m\u001b[0;34m)\u001b[0m \u001b[0;32melse\u001b[0m \u001b[0;34m'cpu'\u001b[0m\u001b[0;34m)\u001b[0m\u001b[0;34m\u001b[0m\u001b[0;34m\u001b[0m\u001b[0m\n\u001b[0m\u001b[1;32m      2\u001b[0m \u001b[0mdevice\u001b[0m\u001b[0;34m\u001b[0m\u001b[0;34m\u001b[0m\u001b[0m\n",
      "\u001b[0;31mAttributeError\u001b[0m: module 'torch' has no attribute 'is_available'"
     ]
    }
   ],
   "source": [
    "device= torch.device('cuda:0' if torch.is_available() else 'cpu')\n",
    "device"
   ]
  },
  {
   "cell_type": "code",
   "execution_count": null,
   "id": "9ab95ffa",
   "metadata": {},
   "outputs": [],
   "source": [
    "criterion = NLLLoss()\n",
    "optimizer = optim.Adam(model.classifier.paramters(), lr=0.003)#IMPORTANT only of classifier"
   ]
  },
  {
   "cell_type": "code",
   "execution_count": null,
   "id": "7deb97bf",
   "metadata": {},
   "outputs": [],
   "source": [
    "model.to(device);"
   ]
  },
  {
   "cell_type": "code",
   "execution_count": null,
   "id": "69c9e53f",
   "metadata": {},
   "outputs": [],
   "source": []
  },
  {
   "cell_type": "code",
   "execution_count": null,
   "id": "7fd1a91d",
   "metadata": {},
   "outputs": [],
   "source": []
  },
  {
   "cell_type": "code",
   "execution_count": null,
   "id": "b7917c46",
   "metadata": {},
   "outputs": [],
   "source": []
  },
  {
   "cell_type": "code",
   "execution_count": null,
   "id": "831be0e1",
   "metadata": {},
   "outputs": [],
   "source": []
  },
  {
   "cell_type": "code",
   "execution_count": 11,
   "id": "51cadf80",
   "metadata": {},
   "outputs": [],
   "source": [
    "class NN(nn.Module):\n",
    "    def __init__(self):\n",
    "        super(NN,self).__init__()\n",
    "        self.fc1 = nn.Linear(1024,1)\n",
    "    def foward(self,x):\n",
    "        x = self.fc1"
   ]
  },
  {
   "cell_type": "code",
   "execution_count": null,
   "id": "96d20d92",
   "metadata": {},
   "outputs": [],
   "source": [
    "c = NN()"
   ]
  },
  {
   "cell_type": "code",
   "execution_count": null,
   "id": "428a8edd",
   "metadata": {},
   "outputs": [],
   "source": [
    "c"
   ]
  }
 ],
 "metadata": {
  "kernelspec": {
   "display_name": "Python 3",
   "language": "python",
   "name": "python3"
  },
  "language_info": {
   "codemirror_mode": {
    "name": "ipython",
    "version": 3
   },
   "file_extension": ".py",
   "mimetype": "text/x-python",
   "name": "python",
   "nbconvert_exporter": "python",
   "pygments_lexer": "ipython3",
   "version": "3.8.8"
  }
 },
 "nbformat": 4,
 "nbformat_minor": 5
}
